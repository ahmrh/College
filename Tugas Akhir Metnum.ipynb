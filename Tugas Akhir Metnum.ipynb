{
  "nbformat": 4,
  "nbformat_minor": 0,
  "metadata": {
    "kernelspec": {
      "display_name": "Python 3",
      "language": "python",
      "name": "python3"
    },
    "language_info": {
      "codemirror_mode": {
        "name": "ipython",
        "version": 3
      },
      "file_extension": ".py",
      "mimetype": "text/x-python",
      "name": "python",
      "nbconvert_exporter": "python",
      "pygments_lexer": "ipython3",
      "version": "3.7.1"
    },
    "colab": {
      "name": "TUGAS KELOMPOK YVETTE dkk",
      "provenance": [],
      "include_colab_link": true
    }
  },
  "cells": [
    {
      "cell_type": "markdown",
      "metadata": {
        "id": "view-in-github",
        "colab_type": "text"
      },
      "source": [
        "<a href=\"https://colab.research.google.com/github/zoomy-git/College/blob/main/Tugas%20Akhir%20Metnum.ipynb\" target=\"_parent\"><img src=\"https://colab.research.google.com/assets/colab-badge.svg\" alt=\"Open In Colab\"/></a>"
      ]
    },
    {
      "cell_type": "markdown",
      "metadata": {
        "id": "dBA9riKxqD3T"
      },
      "source": [
        "# Optimasi Penjualan Nasi Goreng Cak Igor"
      ]
    },
    {
      "cell_type": "markdown",
      "metadata": {
        "id": "vojkT_4XqD3W"
      },
      "source": [
        "#### Tulis nama dan NIM Anda di **cell** ini: Definisikan masing-masing tanggung jawab yang dikerjakan anggota dalam tim. JIka ada anggota tim yang tidak berkontribusi, tuliskan namanya, jobdesknya dikosongi.\n",
        "\n",
        "1[ Nama] [NIM] [ Job Desk]\n",
        "\n",
        "2[Nama] [NIM] [Job Desk]"
      ]
    },
    {
      "cell_type": "markdown",
      "metadata": {
        "id": "Muefbau0qD3X"
      },
      "source": [
        "## Latar Belakang"
      ]
    },
    {
      "cell_type": "markdown",
      "metadata": {
        "id": "Bp8y3CxaqD3X"
      },
      "source": [
        "Cak Igor ingin membuka bisnis nasi goreng di daerah Kerto. Karena baru pertama kali berjualan, Cak Igor belum memiliki pengalaman terutama mengenai sebarapa banyak nasi yang harus disiapkan sebagai bahan baku nasi goreng. Agar memperoleh gambaran banyaknya porsi nasi yang harus disiapkan, Cak Igor melakukan eksperimen. Pada eksperimen tersebut,Cak Igor secara bertahap meningkatkan jumlah porsi yang disediakan dan mencatat keuntungan yang diperoleh  pada lima hari pertama berjualan. Data porsi penjualan dan keuntungan ditampilkan pada Tabel 1. "
      ]
    },
    {
      "cell_type": "markdown",
      "metadata": {
        "id": "eheVd2tWqD3Y"
      },
      "source": [
        "Tabel 1. Data penjualan dan keuntungan\n",
        "\n",
        "| Porsi | Keuntungan |\n",
        "|-------|------------|\n",
        "| 4     | 50000      |\n",
        "| 6     | 200000     |\n",
        "| 10    | 300000     |\n",
        "| 22    | 310000     |\n",
        "| 25    | 190000     |"
      ]
    },
    {
      "cell_type": "markdown",
      "metadata": {
        "id": "bSa-0Y0kqD3Y"
      },
      "source": [
        "## Permasalahan"
      ]
    },
    {
      "cell_type": "markdown",
      "metadata": {
        "id": "UQ1OOf-OqD3Z"
      },
      "source": [
        "Sama seperti penjual pada umumnya, Cak Igor ingin mendapatkan keuntungan sebesar-besarnya. Namun berdasarkan data hasil penjualan, semakin banyak porsi nasi goreng yang dijual tidak selalu berarti keuntungan meningkat pula. Jika menjual terlalu banyak justru keuntungan yang didapat tidak optimal. Sayangnya Cak Igor belum pernah belajar metode numerik, sehingga memerlukan bantuan Anda agar dapat menentukan banyaknya porsi nasi goreng yang harus dijual supaya mendapatkan untung maksimal."
      ]
    },
    {
      "cell_type": "markdown",
      "metadata": {
        "id": "qHwTp_XTqD3a"
      },
      "source": [
        "## Solusi"
      ]
    },
    {
      "cell_type": "markdown",
      "metadata": {
        "id": "bniHphxzqD3b"
      },
      "source": [
        "### 1. Pembentukan persamaan"
      ]
    },
    {
      "cell_type": "markdown",
      "metadata": {
        "id": "3HX6ocy5qD3c"
      },
      "source": [
        "Sebagai mahasiswa yang telah **menguasai** teori optimasi, Anda mengetahui bahwa teknik optimasi digunakan untuk mencari nilai $x$ yang menyebabkan nilai $y$ mencapai maksimum/minimum pada sebuah kurva. Dengan kata lain, objek optimasi adalah sebuah kurva yang dibentuk oleh sebuah persamaan matematika. Pada dunia nyata, termasuk kasus Cak Igor, seringkali persamaan yang akan dioptimasi belum diketahui. Hanya sekumpulan data saja yang telah tersedia. Oleh karena itu, langkah pertama yang perlu Anda lakukan adalah mengubah data menjadi persamaan. Bagaimana caranya? salah satu caranya adalah menggunakan regresi. Pada kesempatan ini, Anda akan menggunakan regresi polinomial derajat dua."
      ]
    },
    {
      "cell_type": "markdown",
      "metadata": {
        "id": "QTUyQURpqD3d"
      },
      "source": [
        "#### a. Masukkan data ke dalam variable"
      ]
    },
    {
      "cell_type": "markdown",
      "metadata": {
        "id": "ZJRO-3mgqD3d"
      },
      "source": [
        "Pada tahap ini, Anda akan memasukkan data penjualan Cak Igor ke dalam variabel. Masukkan variabel porsi dan keuntungan ke dalam 2 buah list dengan melengkapi __cell__ di bawah ini."
      ]
    },
    {
      "cell_type": "code",
      "metadata": {
        "id": "xnikFq2IqD3d"
      },
      "source": [
        "#lengkapi cell ini\n",
        "porsi=[]\n",
        "keuntungan=[]"
      ],
      "execution_count": null,
      "outputs": []
    },
    {
      "cell_type": "markdown",
      "metadata": {
        "id": "J2Ks3o-dqD3e"
      },
      "source": [
        "#### b. Pembentukan persamaan regresi polynomial "
      ]
    },
    {
      "cell_type": "markdown",
      "metadata": {
        "id": "6K5hzlTPqD3f"
      },
      "source": [
        "Selanjutnya, persamaan polynomial derajat dua (persamaan kuadrat) dengan bentuk sebagai berikut: $$y=a_0 x^2+a_1 x+a_2$$ Pada pertemuan mengenai regresi, Anda telah mempelajari metode penghitungan regresi polynomial derajat 2.Nilai $a_0,a_1, dan a_2$ diperoleh dengan menyelesaikan sistem persamaan linear sebagai berikut:\n",
        "\n",
        "$$\n",
        "(\\sum x_i^2)a_0+(\\sum x_i)a_1+(n)a_2=\\sum y_i \\\\\n",
        "(\\sum x_i^3)a_0 + (\\sum x_i^2)a_1 + (\\sum x_i)a_2 = \\sum x_i y_i \\\\\n",
        "(\\sum x_i^4)a_0 + (\\sum x_i^3)a_1+ (\\sum x_i^2)a_2 = \\sum x_i^2 y_i\n",
        "$$\n",
        "\n",
        "Lengkapi **cell** di bawah ini untuk menghitung nilai $n,\\sum x_i,\\sum x_i^2,\\sum x_i^3,\\sum x_i^4,\\sum y_i,\\sum x_i y_i,\\sum x_i^2 y_i$"
      ]
    },
    {
      "cell_type": "code",
      "metadata": {
        "id": "OtI-t6qGqD3f"
      },
      "source": [
        "#lengkapi cell ini\n",
        "n = \n",
        "sigma_x = \n",
        "sigma_x2 = \n",
        "sigma_x3 = \n",
        "sigma_x4 = \n",
        "sigma_y = \n",
        "sigma_xy = \n",
        "sigma_x2y = "
      ],
      "execution_count": null,
      "outputs": []
    },
    {
      "cell_type": "markdown",
      "metadata": {
        "id": "Zccy-gu9qD3f"
      },
      "source": [
        "Setelah mendapatkan nilai variabel $n,\\sum x_i,\\sum x_i^2,\\sum x_i^3,\\sum x_i^4,\\sum y_i,\\sum x_i y_i,\\sum x_i^2 y_i$, langkah selanjutnya adalah membentuk sistem persamaan linear seperti persamaan di atas. Sebuah sistem persamaan linear terdiri dari beberapa persamaan linear, pada permasalahan ini terdapat 3 persamaan linear. Pada python, sebuah sistem persamaan linear dapat dinyatakan dengan persamaan $Ax=b$ dimana $A$ adalah koefisien dari setiap persamaan linear yang ada dan $b$ adalah output dari setiap persamaan linear. Lengkapi **cell** di bawah ini untuk membentuk sistem persamaan linear"
      ]
    },
    {
      "cell_type": "code",
      "metadata": {
        "id": "k1sartBUqD3f"
      },
      "source": [
        "#lengkapi cell ini. Nilai A1 diberikan sebagai contoh\n",
        "A1=[sigma_x2,sigma_x,n]\n",
        "A2= #lengkapi\n",
        "A3= #lengkapi\n",
        "A = [A1,A2,A3]#jangan diubah\n",
        "b = [sigma_y,sigma_xy,sigma_x2y]#jangan diubah"
      ],
      "execution_count": null,
      "outputs": []
    },
    {
      "cell_type": "markdown",
      "metadata": {
        "id": "J3R2BRE7qD3g"
      },
      "source": [
        "Tahapan setelah pembentukan sistem persamaan linear adalah menyelesaikan sistem tersebut. Di kelas, Anda telah mempelajari penyelesaian sistem persamaan linear menggunakan dekomposisi LU. Pada kesempatan kali ini kita akan melakukan dekomposisi LU menggunakan fungsi *lu* dari library *Scipy*. Dokumentasi fungsi *lu* terdapat pada link berikut <https://docs.scipy.org/doc/scipy/reference/generated/scipy.linalg.lu.html>\n",
        "\n",
        "Lengkapi cell berikut untuk mendapatkan nilai  matriks $L$ dan $U$ dari matriks $A$. Pastikan Anda mengeset opsi *permute_l* pada fungsi *lu* menjadi *True*."
      ]
    },
    {
      "cell_type": "code",
      "metadata": {
        "id": "jtnhpk_fqD3g"
      },
      "source": [
        "#lengkapi cell berikut\n",
        "L,U = #gunakan fungsi lu pada scipy"
      ],
      "execution_count": null,
      "outputs": []
    },
    {
      "cell_type": "markdown",
      "metadata": {
        "id": "iZSF21ScqD3g"
      },
      "source": [
        "Berdasarkan teori yang pernah dipelajari di kelas, tahapan selanjutnya seletah mendapatkan nilai $L$ dan $U$ adalah mendapatkan nilai $y$ dengan melakukan substitusi maju dari persamaan $Ly=b$ dan mendapatkan nilai $x$ dengan teknik substitusi mundur dari persamaan $Ux=y$.\n",
        "\n",
        "Terdapat alternatif lain dalam penghitungan nilai $x$ dan $y$. Jika kita amati persamaan $Ly=b$, maka nilai $y$ dapat diperoleh dengan \"membagi\" nilai $b$ dengan nilai $L$. Begitu juga dengan persamaan $Ux=y$. Namun, tidak ada pembagian dalam operasi matriks. Sebagai gantinya, dapat menggunakan operasi perkalian matriks dan invers matriks sebagai berikut\n",
        "\n",
        "$$\n",
        "y = L^{-1}b\\\\\n",
        "x = U^{-1}y\n",
        "$$\n",
        "\n",
        "dimana $L^{-1}$ adalah inverse dari matriks L dan $U^{-1}$ adalah inverse dari matriks U.\n",
        "\n",
        "Perkalian matriks dapat memanfaatkan fungsi *matmul* sedangkan inverse dapat menggunakan fungsi *inv* yang merupakan bagian dari library *numpy*. Dokumentasi fungsi *matmul* ada pada <https://docs.scipy.org/doc/numpy-1.13.0/reference/generated/numpy.matmul.html> sedangkan dokumentasi fungsi *inv* ada pada <https://docs.scipy.org/doc/numpy/reference/generated/numpy.linalg.inv.html>."
      ]
    },
    {
      "cell_type": "code",
      "metadata": {
        "id": "foGQnSwjqD3h",
        "outputId": "3deac6e8-042c-4e24-f3ff-200b2c190a31"
      },
      "source": [
        "#lengkapi cell ini untuk menghitung nilai y dan x\n",
        "y = #lengkapi\n",
        "x = #lengkapi\n",
        "persamaan=x\n",
        "print(x)\n",
        "#nilai x seharusnya [  -2375.41586971   74921.47946399 -194867.94247568]"
      ],
      "execution_count": null,
      "outputs": [
        {
          "output_type": "error",
          "ename": "SyntaxError",
          "evalue": "invalid syntax (<ipython-input-2-62cc00abd56d>, line 2)",
          "traceback": [
            "\u001b[0;36m  File \u001b[0;32m\"<ipython-input-2-62cc00abd56d>\"\u001b[0;36m, line \u001b[0;32m2\u001b[0m\n\u001b[0;31m    y = #lengkapi\u001b[0m\n\u001b[0m                 ^\u001b[0m\n\u001b[0;31mSyntaxError\u001b[0m\u001b[0;31m:\u001b[0m invalid syntax\n"
          ]
        }
      ]
    },
    {
      "cell_type": "markdown",
      "metadata": {
        "id": "FjjWS9a7qD3i"
      },
      "source": [
        "Nilai variabel $x$ merupakan koefisien (variabel $a_0,a_1,a_2$) dari persamaan kuadrat. Persamaan kuadrat yang lengkap dapat Anda tampilkan dengan menjalankan **cell** di bawah ini"
      ]
    },
    {
      "cell_type": "code",
      "metadata": {
        "id": "CYH72yWNqD3i"
      },
      "source": [
        "#jalankan cell ini\n",
        "print(str(numpy.poly1d(persamaan)))"
      ],
      "execution_count": null,
      "outputs": []
    },
    {
      "cell_type": "markdown",
      "metadata": {
        "id": "UV38hwAGqD3i"
      },
      "source": [
        "Penentuan *output* persamaan pada suatu nilai $x$ tertentu, $f(x)$, dapat dilakukan dengan menggunakan fungsi *poly1d* <https://docs.scipy.org/doc/numpy-1.15.0/reference/generated/numpy.poly1d.html> pada pustaka *numpy*. **Cell** di bawah ini menunjukkan contoh penghitungan nilai $f(6)$ menggunakan persamaan hasil regresi polinomial."
      ]
    },
    {
      "cell_type": "code",
      "metadata": {
        "id": "SGHok-dYqD3i"
      },
      "source": [
        "#jalankan cell ini\n",
        "f = numpy.poly1d(persamaan)\n",
        "print(f(6))"
      ],
      "execution_count": null,
      "outputs": []
    },
    {
      "cell_type": "markdown",
      "metadata": {
        "id": "2GVKNtv7qD3j"
      },
      "source": [
        "Agar Anda mendapatkan gambaran yang lebih jelas dari data yang tersedia berikut fungsi regresi yang terbentuk, visualisasi data sangat diperlukan. Jalankan **cell** di bawah ini untuk menampilkan plot data dan garis regresi yang terbentuk"
      ]
    },
    {
      "cell_type": "code",
      "metadata": {
        "id": "3PGVqQDIqD3j"
      },
      "source": [
        "#jalankan cell ini\n",
        "import matplotlib.pyplot as plt\n",
        "x_regresi = numpy.linspace(3,25,100)\n",
        "y_regresi = f(x_regresi)\n",
        "plt.plot(x_regresi,y_regresi,'g')\n",
        "plt.plot(porsi,keuntungan,'ro')\n",
        "plt.xlabel(\"Porsi\")\n",
        "plt.ylabel(\"Keuntungan\")\n",
        "plt.legend(('Garis regresi','Data penjualan'),loc=4)\n",
        "plt.show()"
      ],
      "execution_count": null,
      "outputs": []
    },
    {
      "cell_type": "markdown",
      "metadata": {
        "id": "sk6oh5FhqD3j"
      },
      "source": [
        "### 2. Optimasi"
      ]
    },
    {
      "cell_type": "markdown",
      "metadata": {
        "id": "C70m8N6mqD3j"
      },
      "source": [
        "Pada tahap ini ~~seharusnya~~ Anda telah berhasil mendapatkan persamaan satu variabel dari hasil regresi data penjualan Cak Igor. Tahapan selanjutnya adalah melakukan optimasi dari persamaan yang ada. Namun, setelah Anda melihat visualisasi fungsi yang ada, Anda mendapati bahwa persamaan yang terbentuk memiliki nilai maksimal. Semua metode yang Anda pelajari di kelas metode numerik bertujuan mencari nilai minimal. Oleh karena itu, Anda perlu \"membalik\" persamaan yang ada dengan mengalikan setiap koefisien persamaan dengan nilai -1. **Cell** di bawah ini melakukan \"pembalikan\" fungsi"
      ]
    },
    {
      "cell_type": "code",
      "metadata": {
        "id": "4YDHNJM4qD3j"
      },
      "source": [
        "#jalankan cell ini\n",
        "persamaan = persamaan* -1\n",
        "f = numpy.poly1d(persamaan)"
      ],
      "execution_count": null,
      "outputs": []
    },
    {
      "cell_type": "markdown",
      "metadata": {
        "id": "n2TLa31EqD3j"
      },
      "source": [
        "### 3. Optimasi menggunakan metode Golden Section Search (GSS)"
      ]
    },
    {
      "cell_type": "markdown",
      "metadata": {
        "id": "G6h867WJqD3k"
      },
      "source": [
        "Anda bermaksud melakukan optimasi persamaan yang terbentuk melalui regresi polinomial menggunakan metode Golden Section Search (GSS). Detail metode GSS dapat Anda baca ulang pada slide kuliah. Langkah selanjutnya adalah melakukan implementasi metode numerik untuk pencarian nilai optimum menggunakan metode GSS. Pada implementasi kali ini, metode GSS akan berhenti jika $|x_u - x_l| < threshold$. Nilai $threshold$ nantinya akan dimasukkan oleh pengguna"
      ]
    },
    {
      "cell_type": "code",
      "metadata": {
        "id": "fEkVfCGnqD3k"
      },
      "source": [
        "def gss(xl,xu,threshold):\n",
        "    \n",
        "    return hasil"
      ],
      "execution_count": null,
      "outputs": []
    },
    {
      "cell_type": "markdown",
      "metadata": {
        "id": "_TYWT6kdqD3k"
      },
      "source": [
        "Jalankan metode GSS dengan $xl=5$ dan $xu=25$  serta  $threshold=0.001$"
      ]
    },
    {
      "cell_type": "code",
      "metadata": {
        "id": "7ykdmOo_qD3k"
      },
      "source": [
        "x_optimal=gss(5,25,0.000001)\n",
        "print(x_optimal)"
      ],
      "execution_count": null,
      "outputs": []
    },
    {
      "cell_type": "markdown",
      "metadata": {
        "id": "AyT_I996qD3k"
      },
      "source": [
        "Hasil dari metode GSS merupakan bilangan desimal, tetapi banyaknya porsi nasi goreng yang harus dijual haruslah merupakan bilangan bulat. Oleh karena itu, Anda perlu membulatkan keatas hasil dari metode newton di **cell** di bawah ini "
      ]
    },
    {
      "cell_type": "code",
      "metadata": {
        "id": "2UgTunJ2qD3l"
      },
      "source": [
        "#lakukan pembulatan keatas dari output metode GSS\n",
        "import math\n",
        "porsi_nasgor = \n",
        "print(\"Cak Igor harus menjual : \"+str(porsi_nasgor)+ \" porsi\")"
      ],
      "execution_count": null,
      "outputs": []
    },
    {
      "cell_type": "code",
      "metadata": {
        "id": "eDwAhkDxqD3l"
      },
      "source": [
        ""
      ],
      "execution_count": null,
      "outputs": []
    }
  ]
}